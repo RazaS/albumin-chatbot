{
 "cells": [
  {
   "cell_type": "code",
   "execution_count": 22,
   "metadata": {},
   "outputs": [
    {
     "name": "stderr",
     "output_type": "stream",
     "text": [
      "INFO:sentence_transformers.SentenceTransformer:Use pytorch device_name: mps\n",
      "INFO:sentence_transformers.SentenceTransformer:Load pretrained SentenceTransformer: intfloat/e5-base\n"
     ]
    },
    {
     "name": "stdout",
     "output_type": "stream",
     "text": [
      "\n",
      "📄 Processing: document.pdf\n"
     ]
    },
    {
     "name": "stderr",
     "output_type": "stream",
     "text": [
      "INFO:docling.document_converter:Going to convert document batch...\n",
      "INFO:docling.document_converter:Initializing pipeline for StandardPdfPipeline with options hash 70041f74270850b7bedf7c8f5c2dcede\n",
      "INFO:docling.utils.accelerator_utils:Accelerator device: 'mps'\n",
      "INFO:docling.utils.accelerator_utils:Accelerator device: 'mps'\n",
      "INFO:docling.utils.accelerator_utils:Accelerator device: 'mps'\n",
      "INFO:docling.pipeline.base_pipeline:Processing document document.pdf\n",
      "INFO:docling.document_converter:Finished converting document document.pdf in 120.68 sec.\n"
     ]
    },
    {
     "data": {
      "application/vnd.jupyter.widget-view+json": {
       "model_id": "156bb0739ccd4b64815a6113989d61b9",
       "version_major": 2,
       "version_minor": 0
      },
      "text/plain": [
       "Batches:   0%|          | 0/28 [00:00<?, ?it/s]"
      ]
     },
     "metadata": {},
     "output_type": "display_data"
    },
    {
     "name": "stdout",
     "output_type": "stream",
     "text": [
      "✅ Uploaded 887 chunks from document.pdf\n",
      "\n",
      "📄 Processing: blood-transfusion-pdf-1837331897029.pdf\n"
     ]
    },
    {
     "name": "stderr",
     "output_type": "stream",
     "text": [
      "INFO:docling.document_converter:Going to convert document batch...\n",
      "INFO:docling.pipeline.base_pipeline:Processing document blood-transfusion-pdf-1837331897029.pdf\n",
      "INFO:docling.document_converter:Finished converting document blood-transfusion-pdf-1837331897029.pdf in 13.27 sec.\n"
     ]
    },
    {
     "data": {
      "application/vnd.jupyter.widget-view+json": {
       "model_id": "a026e86f3fec4a19aa07cbf9a09fcb96",
       "version_major": 2,
       "version_minor": 0
      },
      "text/plain": [
       "Batches:   0%|          | 0/3 [00:00<?, ?it/s]"
      ]
     },
     "metadata": {},
     "output_type": "display_data"
    },
    {
     "name": "stdout",
     "output_type": "stream",
     "text": [
      "✅ Uploaded 85 chunks from blood-transfusion-pdf-1837331897029.pdf\n",
      "\n",
      "📄 Processing: iron-bc.pdf\n"
     ]
    },
    {
     "name": "stderr",
     "output_type": "stream",
     "text": [
      "INFO:docling.document_converter:Going to convert document batch...\n",
      "INFO:docling.pipeline.base_pipeline:Processing document iron-bc.pdf\n",
      "INFO:docling.document_converter:Finished converting document iron-bc.pdf in 23.50 sec.\n"
     ]
    },
    {
     "data": {
      "application/vnd.jupyter.widget-view+json": {
       "model_id": "74ea198052da43d4ba03b1a09698b0d7",
       "version_major": 2,
       "version_minor": 0
      },
      "text/plain": [
       "Batches:   0%|          | 0/4 [00:00<?, ?it/s]"
      ]
     },
     "metadata": {},
     "output_type": "display_data"
    },
    {
     "name": "stderr",
     "output_type": "stream",
     "text": [
      "INFO:docling.document_converter:Going to convert document batch...\n",
      "INFO:docling.pipeline.base_pipeline:Processing document iron1.pdf\n"
     ]
    },
    {
     "name": "stdout",
     "output_type": "stream",
     "text": [
      "✅ Uploaded 124 chunks from iron-bc.pdf\n",
      "\n",
      "📄 Processing: iron1.pdf\n"
     ]
    },
    {
     "name": "stderr",
     "output_type": "stream",
     "text": [
      "INFO:docling.document_converter:Finished converting document iron1.pdf in 23.66 sec.\n"
     ]
    },
    {
     "data": {
      "application/vnd.jupyter.widget-view+json": {
       "model_id": "46da0027a460407a920bc22e2eb603f6",
       "version_major": 2,
       "version_minor": 0
      },
      "text/plain": [
       "Batches:   0%|          | 0/6 [00:00<?, ?it/s]"
      ]
     },
     "metadata": {},
     "output_type": "display_data"
    },
    {
     "name": "stdout",
     "output_type": "stream",
     "text": [
      "✅ Uploaded 174 chunks from iron1.pdf\n",
      "\n",
      "📄 Processing: 112024db.pdf\n"
     ]
    },
    {
     "name": "stderr",
     "output_type": "stream",
     "text": [
      "INFO:docling.document_converter:Going to convert document batch...\n",
      "INFO:docling.pipeline.base_pipeline:Processing document 112024db.pdf\n",
      "INFO:docling.document_converter:Finished converting document 112024db.pdf in 59.97 sec.\n"
     ]
    },
    {
     "data": {
      "application/vnd.jupyter.widget-view+json": {
       "model_id": "157b24198ad1451da41f0f64881365ab",
       "version_major": 2,
       "version_minor": 0
      },
      "text/plain": [
       "Batches:   0%|          | 0/6 [00:00<?, ?it/s]"
      ]
     },
     "metadata": {},
     "output_type": "display_data"
    },
    {
     "name": "stdout",
     "output_type": "stream",
     "text": [
      "✅ Uploaded 164 chunks from 112024db.pdf\n",
      "\n",
      "📄 Processing: Patient Blood Management Guideline_Final.pdf\n"
     ]
    },
    {
     "name": "stderr",
     "output_type": "stream",
     "text": [
      "INFO:docling.document_converter:Going to convert document batch...\n",
      "INFO:docling.pipeline.base_pipeline:Processing document Patient Blood Management Guideline_Final.pdf\n",
      "INFO:docling.document_converter:Finished converting document Patient Blood Management Guideline_Final.pdf in 45.89 sec.\n"
     ]
    },
    {
     "data": {
      "application/vnd.jupyter.widget-view+json": {
       "model_id": "31393538ef4047d8a9ff7db6653afea7",
       "version_major": 2,
       "version_minor": 0
      },
      "text/plain": [
       "Batches:   0%|          | 0/11 [00:00<?, ?it/s]"
      ]
     },
     "metadata": {},
     "output_type": "display_data"
    },
    {
     "name": "stdout",
     "output_type": "stream",
     "text": [
      "✅ Uploaded 340 chunks from Patient Blood Management Guideline_Final.pdf\n",
      "\n",
      "📄 Processing: Bsh-Committee-for-standards-in-haematology-guidelines-on-the-identification-and-management-of-pre-operative-anaemia-Kotz-2015.pdf\n"
     ]
    },
    {
     "name": "stderr",
     "output_type": "stream",
     "text": [
      "INFO:docling.document_converter:Going to convert document batch...\n",
      "INFO:docling.pipeline.base_pipeline:Processing document Bsh-Committee-for-standards-in-haematology-guidelines-on-the-identification-and-management-of-pre-operative-anaemia-Kotz-2015.pdf\n",
      "INFO:docling.document_converter:Finished converting document Bsh-Committee-for-standards-in-haematology-guidelines-on-the-identification-and-management-of-pre-operative-anaemia-Kotz-2015.pdf in 16.20 sec.\n"
     ]
    },
    {
     "data": {
      "application/vnd.jupyter.widget-view+json": {
       "model_id": "83e960bd03ac4a649b593e5e214627d0",
       "version_major": 2,
       "version_minor": 0
      },
      "text/plain": [
       "Batches:   0%|          | 0/4 [00:00<?, ?it/s]"
      ]
     },
     "metadata": {},
     "output_type": "display_data"
    },
    {
     "name": "stdout",
     "output_type": "stream",
     "text": [
      "✅ Uploaded 117 chunks from Bsh-Committee-for-standards-in-haematology-guidelines-on-the-identification-and-management-of-pre-operative-anaemia-Kotz-2015.pdf\n",
      "\n",
      "📄 Processing: ezx325.pdf\n"
     ]
    },
    {
     "name": "stderr",
     "output_type": "stream",
     "text": [
      "INFO:docling.document_converter:Going to convert document batch...\n",
      "INFO:docling.pipeline.base_pipeline:Processing document ezx325.pdf\n",
      "INFO:docling.document_converter:Finished converting document ezx325.pdf in 106.05 sec.\n"
     ]
    },
    {
     "data": {
      "application/vnd.jupyter.widget-view+json": {
       "model_id": "aefe389f9fb24494880d1800e6103c0d",
       "version_major": 2,
       "version_minor": 0
      },
      "text/plain": [
       "Batches:   0%|          | 0/16 [00:00<?, ?it/s]"
      ]
     },
     "metadata": {},
     "output_type": "display_data"
    },
    {
     "name": "stdout",
     "output_type": "stream",
     "text": [
      "✅ Uploaded 486 chunks from ezx325.pdf\n",
      "\n",
      "📄 Processing: Guidelines_UBWEN.pdf\n"
     ]
    },
    {
     "name": "stderr",
     "output_type": "stream",
     "text": [
      "INFO:docling.document_converter:Going to convert document batch...\n",
      "INFO:docling.pipeline.base_pipeline:Processing document Guidelines_UBWEN.pdf\n",
      "INFO:docling.document_converter:Finished converting document Guidelines_UBWEN.pdf in 5.22 sec.\n"
     ]
    },
    {
     "data": {
      "application/vnd.jupyter.widget-view+json": {
       "model_id": "674aaef0f675495fb04dbe4783e353e7",
       "version_major": 2,
       "version_minor": 0
      },
      "text/plain": [
       "Batches:   0%|          | 0/2 [00:00<?, ?it/s]"
      ]
     },
     "metadata": {},
     "output_type": "display_data"
    },
    {
     "name": "stdout",
     "output_type": "stream",
     "text": [
      "✅ Uploaded 34 chunks from Guidelines_UBWEN.pdf\n",
      "\n",
      "📄 Processing: Anaesthesia - 2015 - Mu%C3%B1oz - Pre%E2%80%90operative haematological assessment in patients scheduled for major surgery.pdf\n"
     ]
    },
    {
     "name": "stderr",
     "output_type": "stream",
     "text": [
      "INFO:docling.document_converter:Going to convert document batch...\n",
      "INFO:docling.pipeline.base_pipeline:Processing document Anaesthesia - 2015 - Mu%C3%B1oz - Pre%E2%80%90operative haematological assessment in patients scheduled for major surgery.pdf\n",
      "INFO:docling.document_converter:Finished converting document Anaesthesia - 2015 - Mu%C3%B1oz - Pre%E2%80%90operative haematological assessment in patients scheduled for major surgery.pdf in 15.41 sec.\n"
     ]
    },
    {
     "data": {
      "application/vnd.jupyter.widget-view+json": {
       "model_id": "5d345a7637144f37b16b237edc1cbd00",
       "version_major": 2,
       "version_minor": 0
      },
      "text/plain": [
       "Batches:   0%|          | 0/4 [00:00<?, ?it/s]"
      ]
     },
     "metadata": {},
     "output_type": "display_data"
    },
    {
     "name": "stdout",
     "output_type": "stream",
     "text": [
      "✅ Uploaded 99 chunks from Anaesthesia - 2015 - Mu%C3%B1oz - Pre%E2%80%90operative haematological assessment in patients scheduled for major surgery.pdf\n"
     ]
    }
   ],
   "source": [
    "import os\n",
    "import uuid\n",
    "import json\n",
    "from dotenv import load_dotenv\n",
    "from pathlib import Path\n",
    "\n",
    "from docling.datamodel.base_models import InputFormat\n",
    "from docling.datamodel.pipeline_options import PdfPipelineOptions\n",
    "from docling.document_converter import DocumentConverter, PdfFormatOption\n",
    "from sentence_transformers import SentenceTransformer\n",
    "from pinecone import Pinecone, ServerlessSpec\n",
    "\n",
    "# === Load environment variables ===\n",
    "load_dotenv()\n",
    "\n",
    "# === Configuration ===\n",
    "PINECONE_API_KEY = os.getenv(\"PINECONE_API_KEY\")\n",
    "PDF_DIR = \"pdfs\"\n",
    "INDEX_NAME = \"guideline-rag\"\n",
    "EMBED_DIM = 768  # for intfloat/e5-base\n",
    "\n",
    "# === Initialize Pinecone ===\n",
    "pc = Pinecone(api_key=PINECONE_API_KEY)\n",
    "\n",
    "# Delete existing index if needed\n",
    "if INDEX_NAME in [i.name for i in pc.list_indexes()]:\n",
    "    pc.delete_index(INDEX_NAME)\n",
    "\n",
    "\n",
    "if INDEX_NAME not in [i.name for i in pc.list_indexes()]:\n",
    "    pc.create_index(\n",
    "        name=INDEX_NAME,\n",
    "        dimension=EMBED_DIM,\n",
    "        metric=\"cosine\",\n",
    "        spec=ServerlessSpec(cloud=\"aws\", region=\"us-east-1\")\n",
    "    )\n",
    "index = pc.Index(INDEX_NAME)\n",
    "\n",
    "# === Load embedding model ===\n",
    "embedder = SentenceTransformer(\"intfloat/e5-base\")\n",
    "\n",
    "# === Helper: chunk text ===\n",
    "def chunk_text(text, chunk_size=500):\n",
    "    return [text[i:i + chunk_size] for i in range(0, len(text), chunk_size)]\n",
    "\n",
    "# === Helper: batch vectors to stay within 2MB limit ===\n",
    "def batch_vectors(vectors):\n",
    "    batch = []\n",
    "    batch_size = 0\n",
    "    for vector in vectors:\n",
    "        size = len(json.dumps(vector).encode(\"utf-8\"))\n",
    "        if batch_size + size > 2 * 1024 * 1024:  # 2MB\n",
    "            yield batch\n",
    "            batch = [vector]\n",
    "            batch_size = size\n",
    "        else:\n",
    "            batch.append(vector)\n",
    "            batch_size += size\n",
    "    if batch:\n",
    "        yield batch\n",
    "\n",
    "\n",
    "def save_chunks_to_disk(filename, chunks):\n",
    "    output_dir = Path(\"docling_chunks\")\n",
    "    output_dir.mkdir(exist_ok=True)\n",
    "    chunk_path = output_dir / f\"{Path(filename).stem}_chunks.jsonl\"\n",
    "    with chunk_path.open(\"w\", encoding=\"utf-8\") as f:\n",
    "        for chunk in chunks:\n",
    "            json.dump({\"text\": chunk, \"source\": filename}, f)\n",
    "            f.write(\"\\n\")\n",
    "    print(f\"💾 Saved chunks to {chunk_path}\")\n",
    "\n",
    "# === Configure Docling with OCR and layout parsing ===\n",
    "pipeline_options = PdfPipelineOptions()\n",
    "pipeline_options.do_ocr = True\n",
    "pipeline_options.do_table_structure = True\n",
    "pipeline_options.table_structure_options.do_cell_matching = True\n",
    "\n",
    "converter = DocumentConverter(\n",
    "    allowed_formats=[InputFormat.PDF],\n",
    "    format_options={\n",
    "        InputFormat.PDF: PdfFormatOption(pipeline_options=pipeline_options)\n",
    "    }\n",
    ")\n",
    "\n",
    "# === Process all PDFs ===\n",
    "for filename in os.listdir(PDF_DIR):\n",
    "    if not filename.lower().endswith(\".pdf\"):\n",
    "        continue\n",
    "\n",
    "    path = os.path.join(PDF_DIR, filename)\n",
    "    print(f\"\\n📄 Processing: {filename}\")\n",
    "\n",
    "    try:\n",
    "        result = converter.convert(path)\n",
    "        full_text = result.document.export_to_markdown()\n",
    "    except Exception as e:\n",
    "        print(f\"❌ Error processing {filename}: {e}\")\n",
    "        continue\n",
    "\n",
    "    chunks = chunk_text(full_text)\n",
    "\n",
    "    save_chunks_to_disk(filename, chunks)\n",
    "    \n",
    "    if not chunks:\n",
    "        print(f\"⚠️ No content found in {filename}\")\n",
    "        continue\n",
    "\n",
    "    # E5 expects \"passage: ...\" format\n",
    "    texts_to_embed = [f\"passage: {chunk}\" for chunk in chunks]\n",
    "    embeddings = embedder.encode(texts_to_embed, show_progress_bar=True)\n",
    "\n",
    "    vectors = [{\n",
    "        \"id\": str(uuid.uuid4()),\n",
    "        \"values\": emb.tolist(),\n",
    "        \"metadata\": {\n",
    "            \"text\": chunk,\n",
    "            \"source\": filename\n",
    "        }\n",
    "    } for chunk, emb in zip(chunks, embeddings)]\n",
    "\n",
    "    for batch in batch_vectors(vectors):\n",
    "        index.upsert(vectors=batch)\n",
    "\n",
    "    print(f\"✅ Uploaded {len(vectors)} chunks from {filename}\")"
   ]
  },
  {
   "cell_type": "markdown",
   "metadata": {},
   "source": [
    "Save chunks only"
   ]
  },
  {
   "cell_type": "code",
   "execution_count": 23,
   "metadata": {},
   "outputs": [
    {
     "name": "stdout",
     "output_type": "stream",
     "text": [
      "\n",
      "📄 Processing: document.pdf\n"
     ]
    },
    {
     "name": "stderr",
     "output_type": "stream",
     "text": [
      "INFO:docling.document_converter:Going to convert document batch...\n",
      "INFO:docling.document_converter:Initializing pipeline for StandardPdfPipeline with options hash 70041f74270850b7bedf7c8f5c2dcede\n",
      "INFO:docling.utils.accelerator_utils:Accelerator device: 'mps'\n",
      "INFO:docling.utils.accelerator_utils:Accelerator device: 'mps'\n",
      "INFO:docling.utils.accelerator_utils:Accelerator device: 'mps'\n",
      "INFO:docling.pipeline.base_pipeline:Processing document document.pdf\n",
      "INFO:docling.document_converter:Finished converting document document.pdf in 119.98 sec.\n"
     ]
    },
    {
     "name": "stdout",
     "output_type": "stream",
     "text": [
      "💾 Saved chunks to docling_chunks/document_chunks.jsonl\n",
      "\n",
      "📄 Processing: blood-transfusion-pdf-1837331897029.pdf\n"
     ]
    },
    {
     "name": "stderr",
     "output_type": "stream",
     "text": [
      "INFO:docling.document_converter:Going to convert document batch...\n",
      "INFO:docling.pipeline.base_pipeline:Processing document blood-transfusion-pdf-1837331897029.pdf\n",
      "INFO:docling.document_converter:Finished converting document blood-transfusion-pdf-1837331897029.pdf in 13.74 sec.\n"
     ]
    },
    {
     "name": "stdout",
     "output_type": "stream",
     "text": [
      "💾 Saved chunks to docling_chunks/blood-transfusion-pdf-1837331897029_chunks.jsonl\n",
      "\n",
      "📄 Processing: iron-bc.pdf\n"
     ]
    },
    {
     "name": "stderr",
     "output_type": "stream",
     "text": [
      "INFO:docling.document_converter:Going to convert document batch...\n",
      "INFO:docling.pipeline.base_pipeline:Processing document iron-bc.pdf\n",
      "INFO:docling.document_converter:Finished converting document iron-bc.pdf in 22.46 sec.\n"
     ]
    },
    {
     "name": "stdout",
     "output_type": "stream",
     "text": [
      "💾 Saved chunks to docling_chunks/iron-bc_chunks.jsonl\n",
      "\n",
      "📄 Processing: iron1.pdf\n"
     ]
    },
    {
     "name": "stderr",
     "output_type": "stream",
     "text": [
      "INFO:docling.document_converter:Going to convert document batch...\n",
      "INFO:docling.pipeline.base_pipeline:Processing document iron1.pdf\n",
      "INFO:docling.document_converter:Finished converting document iron1.pdf in 18.04 sec.\n",
      "INFO:docling.document_converter:Going to convert document batch...\n",
      "INFO:docling.pipeline.base_pipeline:Processing document 112024db.pdf\n"
     ]
    },
    {
     "name": "stdout",
     "output_type": "stream",
     "text": [
      "💾 Saved chunks to docling_chunks/iron1_chunks.jsonl\n",
      "\n",
      "📄 Processing: 112024db.pdf\n"
     ]
    },
    {
     "name": "stderr",
     "output_type": "stream",
     "text": [
      "INFO:docling.document_converter:Finished converting document 112024db.pdf in 34.93 sec.\n"
     ]
    },
    {
     "name": "stdout",
     "output_type": "stream",
     "text": [
      "💾 Saved chunks to docling_chunks/112024db_chunks.jsonl\n",
      "\n",
      "📄 Processing: Patient Blood Management Guideline_Final.pdf\n"
     ]
    },
    {
     "name": "stderr",
     "output_type": "stream",
     "text": [
      "INFO:docling.document_converter:Going to convert document batch...\n",
      "INFO:docling.pipeline.base_pipeline:Processing document Patient Blood Management Guideline_Final.pdf\n",
      "INFO:docling.document_converter:Finished converting document Patient Blood Management Guideline_Final.pdf in 39.25 sec.\n",
      "INFO:docling.document_converter:Going to convert document batch...\n",
      "INFO:docling.pipeline.base_pipeline:Processing document Bsh-Committee-for-standards-in-haematology-guidelines-on-the-identification-and-management-of-pre-operative-anaemia-Kotz-2015.pdf\n"
     ]
    },
    {
     "name": "stdout",
     "output_type": "stream",
     "text": [
      "💾 Saved chunks to docling_chunks/Patient Blood Management Guideline_Final_chunks.jsonl\n",
      "\n",
      "📄 Processing: Bsh-Committee-for-standards-in-haematology-guidelines-on-the-identification-and-management-of-pre-operative-anaemia-Kotz-2015.pdf\n"
     ]
    },
    {
     "name": "stderr",
     "output_type": "stream",
     "text": [
      "INFO:docling.document_converter:Finished converting document Bsh-Committee-for-standards-in-haematology-guidelines-on-the-identification-and-management-of-pre-operative-anaemia-Kotz-2015.pdf in 13.32 sec.\n",
      "INFO:docling.document_converter:Going to convert document batch...\n",
      "INFO:docling.pipeline.base_pipeline:Processing document ezx325.pdf\n"
     ]
    },
    {
     "name": "stdout",
     "output_type": "stream",
     "text": [
      "💾 Saved chunks to docling_chunks/Bsh-Committee-for-standards-in-haematology-guidelines-on-the-identification-and-management-of-pre-operative-anaemia-Kotz-2015_chunks.jsonl\n",
      "\n",
      "📄 Processing: ezx325.pdf\n"
     ]
    },
    {
     "name": "stderr",
     "output_type": "stream",
     "text": [
      "INFO:docling.document_converter:Finished converting document ezx325.pdf in 100.49 sec.\n",
      "INFO:docling.document_converter:Going to convert document batch...\n",
      "INFO:docling.pipeline.base_pipeline:Processing document Guidelines_UBWEN.pdf\n"
     ]
    },
    {
     "name": "stdout",
     "output_type": "stream",
     "text": [
      "💾 Saved chunks to docling_chunks/ezx325_chunks.jsonl\n",
      "\n",
      "📄 Processing: Guidelines_UBWEN.pdf\n"
     ]
    },
    {
     "name": "stderr",
     "output_type": "stream",
     "text": [
      "INFO:docling.document_converter:Finished converting document Guidelines_UBWEN.pdf in 5.50 sec.\n",
      "INFO:docling.document_converter:Going to convert document batch...\n",
      "INFO:docling.pipeline.base_pipeline:Processing document Anaesthesia - 2015 - Mu%C3%B1oz - Pre%E2%80%90operative haematological assessment in patients scheduled for major surgery.pdf\n"
     ]
    },
    {
     "name": "stdout",
     "output_type": "stream",
     "text": [
      "💾 Saved chunks to docling_chunks/Guidelines_UBWEN_chunks.jsonl\n",
      "\n",
      "📄 Processing: Anaesthesia - 2015 - Mu%C3%B1oz - Pre%E2%80%90operative haematological assessment in patients scheduled for major surgery.pdf\n"
     ]
    },
    {
     "name": "stderr",
     "output_type": "stream",
     "text": [
      "INFO:docling.document_converter:Finished converting document Anaesthesia - 2015 - Mu%C3%B1oz - Pre%E2%80%90operative haematological assessment in patients scheduled for major surgery.pdf in 14.69 sec.\n"
     ]
    },
    {
     "name": "stdout",
     "output_type": "stream",
     "text": [
      "💾 Saved chunks to docling_chunks/Anaesthesia - 2015 - Mu%C3%B1oz - Pre%E2%80%90operative haematological assessment in patients scheduled for major surgery_chunks.jsonl\n"
     ]
    }
   ],
   "source": [
    "import os\n",
    "import json\n",
    "from pathlib import Path\n",
    "from docling.datamodel.base_models import InputFormat\n",
    "from docling.datamodel.pipeline_options import PdfPipelineOptions\n",
    "from docling.document_converter import DocumentConverter, PdfFormatOption\n",
    "\n",
    "# === Config ===\n",
    "PDF_DIR = \"10pdfs\"\n",
    "\n",
    "# === Chunking helper ===\n",
    "def chunk_text(text, chunk_size=500):\n",
    "    return [text[i:i + chunk_size] for i in range(0, len(text), chunk_size)]\n",
    "\n",
    "# === Save chunks to disk ===\n",
    "def save_chunks_to_disk(filename, chunks):\n",
    "    output_dir = Path(\"docling_chunks\")\n",
    "    output_dir.mkdir(exist_ok=True)\n",
    "    chunk_file = output_dir / f\"{Path(filename).stem}_chunks.jsonl\"\n",
    "    with chunk_file.open(\"w\", encoding=\"utf-8\") as f:\n",
    "        for chunk in chunks:\n",
    "            json.dump({\"text\": chunk, \"source\": filename}, f)\n",
    "            f.write(\"\\n\")\n",
    "    print(f\"💾 Saved chunks to {chunk_file}\")\n",
    "\n",
    "# === Configure Docling ===\n",
    "pipeline_options = PdfPipelineOptions()\n",
    "pipeline_options.do_ocr = True\n",
    "pipeline_options.do_table_structure = True\n",
    "pipeline_options.table_structure_options.do_cell_matching = True\n",
    "\n",
    "converter = DocumentConverter(\n",
    "    allowed_formats=[InputFormat.PDF],\n",
    "    format_options={\n",
    "        InputFormat.PDF: PdfFormatOption(pipeline_options=pipeline_options)\n",
    "    }\n",
    ")\n",
    "\n",
    "# === Process PDFs and save chunks ===\n",
    "for filename in os.listdir(PDF_DIR):\n",
    "    if not filename.lower().endswith(\".pdf\"):\n",
    "        continue\n",
    "\n",
    "    path = os.path.join(PDF_DIR, filename)\n",
    "    print(f\"\\n📄 Processing: {filename}\")\n",
    "\n",
    "    try:\n",
    "        result = converter.convert(path)\n",
    "        full_text = result.document.export_to_markdown()\n",
    "    except Exception as e:\n",
    "        print(f\"❌ Failed to process {filename}: {e}\")\n",
    "        continue\n",
    "\n",
    "    chunks = chunk_text(full_text)\n",
    "    save_chunks_to_disk(filename, chunks)"
   ]
  },
  {
   "cell_type": "code",
   "execution_count": null,
   "metadata": {},
   "outputs": [],
   "source": []
  }
 ],
 "metadata": {
  "kernelspec": {
   "display_name": "Guide-LLM",
   "language": "python",
   "name": "python3"
  },
  "language_info": {
   "codemirror_mode": {
    "name": "ipython",
    "version": 3
   },
   "file_extension": ".py",
   "mimetype": "text/x-python",
   "name": "python",
   "nbconvert_exporter": "python",
   "pygments_lexer": "ipython3",
   "version": "3.10.16"
  }
 },
 "nbformat": 4,
 "nbformat_minor": 2
}
